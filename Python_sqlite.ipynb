{
 "cells": [
  {
   "cell_type": "code",
   "execution_count": 12,
   "metadata": {},
   "outputs": [],
   "source": [
    "import sqlite3"
   ]
  },
  {
   "cell_type": "code",
   "execution_count": 13,
   "metadata": {},
   "outputs": [
    {
     "name": "stdout",
     "output_type": "stream",
     "text": [
      "DB Criado com sucesso.\n"
     ]
    }
   ],
   "source": [
    "conexao = sqlite3.connect(\"DB_Python_SQLite.db\")\n",
    "print(\"DB Criado com sucesso.\")"
   ]
  },
  {
   "cell_type": "code",
   "execution_count": 14,
   "metadata": {},
   "outputs": [],
   "source": [
    "cursor = conexao.cursor()"
   ]
  },
  {
   "cell_type": "code",
   "execution_count": 4,
   "metadata": {},
   "outputs": [
    {
     "name": "stdout",
     "output_type": "stream",
     "text": [
      "Tabela criada com sucesso!\n"
     ]
    }
   ],
   "source": [
    "clientes = '''CREATE TABLE clientes(id_cliente INTEGER PRIMARY KEY AUTOINCREMENT,\n",
    "                                    nome VARCHAR(100),\n",
    "                                    nascimento DATE,\n",
    "                                    cpf VARCHAR(15))'''\n",
    "                                    \n",
    "print(\"Tabela criada com sucesso!\")\n",
    "cursor.execute(clientes)\n",
    "conexao.commit()"
   ]
  },
  {
   "cell_type": "code",
   "execution_count": 5,
   "metadata": {},
   "outputs": [
    {
     "name": "stdout",
     "output_type": "stream",
     "text": [
      "Dados inseridos com sucesso!\n"
     ]
    }
   ],
   "source": [
    "inserir_dados = '''INSERT INTO clientes(nome, nascimento, cpf)\n",
    "                                VALUES('Diana', '02/12/1988', '111.333.620-77')'''\n",
    "print(\"Dados inseridos com sucesso!\")\n",
    "cursor.execute(inserir_dados)\n",
    "conexao.commit()   "
   ]
  },
  {
   "cell_type": "code",
   "execution_count": 6,
   "metadata": {},
   "outputs": [
    {
     "name": "stdout",
     "output_type": "stream",
     "text": [
      "Dados inseridos com sucesso!\n"
     ]
    }
   ],
   "source": [
    "def db_insert(nome, nascimento, cpf):\n",
    "\treturn \"\"\"\n",
    "\tINSERT INTO clientes(nome, nascimento, cpf)\n",
    "\t\t\tVALUES('{}', '{}', '{}')\n",
    "\t\t\"\"\".format(nome, nascimento, cpf)\n",
    "print(\"Dados inseridos com sucesso!\")\n",
    "cursor.execute(db_insert('Paula', '10/07/1988', '333.444.555-22'))\n",
    "conexao.commit()   "
   ]
  },
  {
   "cell_type": "code",
   "execution_count": 15,
   "metadata": {},
   "outputs": [
    {
     "name": "stdout",
     "output_type": "stream",
     "text": [
      "conexão encerrada\n"
     ]
    }
   ],
   "source": [
    "cursor.close()\n",
    "conexao.close()\n",
    "print(\"conexão encerrada\")"
   ]
  }
 ],
 "metadata": {
  "kernelspec": {
   "display_name": "Python 3",
   "language": "python",
   "name": "python3"
  },
  "language_info": {
   "codemirror_mode": {
    "name": "ipython",
    "version": 3
   },
   "file_extension": ".py",
   "mimetype": "text/x-python",
   "name": "python",
   "nbconvert_exporter": "python",
   "pygments_lexer": "ipython3",
   "version": "3.12.0"
  }
 },
 "nbformat": 4,
 "nbformat_minor": 2
}
